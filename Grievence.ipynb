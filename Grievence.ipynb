{
 "cells": [
  {
   "cell_type": "markdown",
   "id": "8581e438-a2cf-49d7-8e2d-17f388f44649",
   "metadata": {},
   "source": [
    "# IMPORTING ALL LIBRARIES"
   ]
  },
  {
   "cell_type": "code",
   "execution_count": 1,
   "id": "d58d302f-f3cc-4765-9798-a4bada5e0b69",
   "metadata": {},
   "outputs": [],
   "source": [
    "import pandas as pd\n",
    "import warnings\n",
    "warnings.filterwarnings('ignore')\n",
    "\n",
    "\n",
    "from keras.layers import Dense, SimpleRNN, Embedding\n",
    "from keras.models import Sequential\n",
    "\n",
    "from tensorflow.keras.models import Sequential\n",
    "from tensorflow.keras.layers import Embedding, LSTM, Dense\n",
    "\n",
    "from tensorflow.keras.utils import to_categorical\n",
    "\n",
    "from tensorflow.keras.preprocessing.text import Tokenizer     # used to assign a unique number for every unique word\n",
    "from tensorflow.keras.preprocessing.sequence import pad_sequences   # will add extra zeros \n",
    "\n",
    "from keras.layers import Dropout"
   ]
  },
  {
   "cell_type": "markdown",
   "id": "553dfd93-442d-4538-a566-3abb2030cd97",
   "metadata": {},
   "source": [
    "# UPLOADING THE FILE"
   ]
  },
  {
   "cell_type": "code",
   "execution_count": 2,
   "id": "f91abc95-96fb-404f-8422-4d5198097c9c",
   "metadata": {},
   "outputs": [],
   "source": [
    "gr=pd.read_csv(r'C:\\Users\\Amaljith P\\Desktop\\CLASS\\PYTHON\\FILES\\greviance.csv')"
   ]
  },
  {
   "cell_type": "code",
   "execution_count": null,
   "id": "dd2a632a-7586-49fa-9b04-c7cd723ef5fb",
   "metadata": {},
   "outputs": [],
   "source": []
  },
  {
   "cell_type": "markdown",
   "id": "ae6ae87d-f5cb-400c-89dd-b8cdd0163dc9",
   "metadata": {},
   "source": [
    "# DATA PRE PROCESSING\n"
   ]
  },
  {
   "cell_type": "code",
   "execution_count": 3,
   "id": "d415cffd-c07b-44e1-af48-7b2f9fde25ff",
   "metadata": {},
   "outputs": [
    {
     "data": {
      "text/plain": [
       "array([ 6,  8,  1, 18, 12,  7,  3, 19, 16, 15, 10, 17,  4,  2,  9, 14,  0,\n",
       "        5, 13, 11, 20])"
      ]
     },
     "execution_count": 3,
     "metadata": {},
     "output_type": "execute_result"
    }
   ],
   "source": [
    "from sklearn.preprocessing import LabelEncoder\n",
    "le = LabelEncoder()\n",
    "\n",
    "gr.Product = le.fit_transform(gr.Product)\n",
    "gr.Product.unique()"
   ]
  },
  {
   "cell_type": "code",
   "execution_count": 6,
   "id": "f8215aa6-099f-44c0-a570-4acc2f0f63a9",
   "metadata": {},
   "outputs": [],
   "source": [
    "gr['x'] = (\n",
    "    gr['Issue'].apply(str) + \"   \" +\n",
    "    gr['Sub-issue'].apply(str) + \"   \" +\n",
    "    gr['Consumer complaint narrative'].apply(str) + \"   \" +\n",
    "    gr['Company'].apply(str)\n",
    ")"
   ]
  },
  {
   "cell_type": "code",
   "execution_count": 7,
   "id": "8d843c77-3678-4233-8d1d-5fc662878c38",
   "metadata": {},
   "outputs": [
    {
     "data": {
      "text/html": [
       "<div>\n",
       "<style scoped>\n",
       "    .dataframe tbody tr th:only-of-type {\n",
       "        vertical-align: middle;\n",
       "    }\n",
       "\n",
       "    .dataframe tbody tr th {\n",
       "        vertical-align: top;\n",
       "    }\n",
       "\n",
       "    .dataframe thead th {\n",
       "        text-align: right;\n",
       "    }\n",
       "</style>\n",
       "<table border=\"1\" class=\"dataframe\">\n",
       "  <thead>\n",
       "    <tr style=\"text-align: right;\">\n",
       "      <th></th>\n",
       "      <th>Product</th>\n",
       "      <th>x</th>\n",
       "    </tr>\n",
       "  </thead>\n",
       "  <tbody>\n",
       "    <tr>\n",
       "      <th>0</th>\n",
       "      <td>6</td>\n",
       "      <td>Incorrect information on your report   Informa...</td>\n",
       "    </tr>\n",
       "  </tbody>\n",
       "</table>\n",
       "</div>"
      ],
      "text/plain": [
       "   Product                                                  x\n",
       "0        6  Incorrect information on your report   Informa..."
      ]
     },
     "execution_count": 7,
     "metadata": {},
     "output_type": "execute_result"
    }
   ],
   "source": [
    "gr = gr.iloc[:,[1,-1]]   \n",
    "gr.head(1)"
   ]
  },
  {
   "cell_type": "markdown",
   "id": "d3eba603-ae31-42fb-a483-13061199da7f",
   "metadata": {},
   "source": [
    "# SPLITTING THE DATA AND MODEL BUILDING"
   ]
  },
  {
   "cell_type": "code",
   "execution_count": 14,
   "id": "5f64fa9c-d8f4-4969-b476-96b481f34488",
   "metadata": {},
   "outputs": [],
   "source": [
    "gr_x = gr.iloc[: , 1]\n",
    "gr_y = gr.iloc[: , 0]\n",
    "\n",
    "from sklearn.model_selection import train_test_split\n",
    "train_x, test_x, train_y, test_y = train_test_split(gr_x, gr_y, test_size=0.2) "
   ]
  },
  {
   "cell_type": "code",
   "execution_count": 15,
   "id": "2eacf8f0-08e8-4733-869a-3c6bab2967af",
   "metadata": {},
   "outputs": [],
   "source": [
    "train_y = to_categorical(train_y)"
   ]
  },
  {
   "cell_type": "code",
   "execution_count": 16,
   "id": "55be337d-10ac-44f6-aaa3-097e6353a2e4",
   "metadata": {},
   "outputs": [],
   "source": [
    "max_num_words  = 30000    \n",
    "seq_len        = 300      \n",
    "embedding_size = 200 "
   ]
  },
  {
   "cell_type": "code",
   "execution_count": 17,
   "id": "58e51d0d-d9a3-44ce-ac8b-5c7f4fbe4f95",
   "metadata": {},
   "outputs": [],
   "source": [
    "tokenizer = Tokenizer(num_words = max_num_words)\n",
    "tokenizer.fit_on_texts(gr.x)\n",
    "\n",
    "train_x = tokenizer.texts_to_sequences(train_x)   # will convert the text to sequences of IDs\n",
    "train_x = pad_sequences(train_x, maxlen = seq_len)"
   ]
  },
  {
   "cell_type": "code",
   "execution_count": 18,
   "id": "270b7c09-98a4-42f2-99c2-85d2e4279e7f",
   "metadata": {},
   "outputs": [],
   "source": [
    "test_x = tokenizer.texts_to_sequences(test_x)  \n",
    "test_x = pad_sequences(test_x, maxlen = seq_len)\n"
   ]
  },
  {
   "cell_type": "code",
   "execution_count": 19,
   "id": "24ad8fd4-8fe3-4ce5-adc5-c42c08ff8623",
   "metadata": {},
   "outputs": [],
   "source": [
    "model = Sequential()         # initialize the network\n",
    "model.add(Embedding(input_dim = max_num_words, \n",
    "                    input_length = seq_len,\n",
    "                    output_dim = embedding_size))      # HYPERPARAMETERS WHICH CAN BE CHANGED FROM ABOVE\n",
    "model.add(LSTM(128))    # No. of neurons in the single hidden layer HYPERPARAMETER\n",
    "model.add(Dropout(0.5))\n",
    "model.add(Dense(21, activation = 'softmax'))\n",
    "from tensorflow.keras.optimizers import Adam\n",
    "adam = Adam(learning_rate = 0.001)\n",
    "model.compile(optimizer = adam, loss = 'categorical_crossentropy', metrics = ['accuracy'])"
   ]
  },
  {
   "cell_type": "code",
   "execution_count": 20,
   "id": "31a94fb9-fb1f-4edc-8e1b-7d5ff158918f",
   "metadata": {},
   "outputs": [
    {
     "name": "stdout",
     "output_type": "stream",
     "text": [
      "Epoch 1/5\n",
      "\u001b[1m3278/3278\u001b[0m \u001b[32m━━━━━━━━━━━━━━━━━━━━\u001b[0m\u001b[37m\u001b[0m \u001b[1m4474s\u001b[0m 1s/step - accuracy: 0.8538 - loss: 0.5393 - val_accuracy: 0.9241 - val_loss: 0.2525\n",
      "Epoch 2/5\n",
      "\u001b[1m3278/3278\u001b[0m \u001b[32m━━━━━━━━━━━━━━━━━━━━\u001b[0m\u001b[37m\u001b[0m \u001b[1m12080s\u001b[0m 4s/step - accuracy: 0.9267 - loss: 0.2474 - val_accuracy: 0.9351 - val_loss: 0.2080\n",
      "Epoch 3/5\n",
      "\u001b[1m3278/3278\u001b[0m \u001b[32m━━━━━━━━━━━━━━━━━━━━\u001b[0m\u001b[37m\u001b[0m \u001b[1m402414s\u001b[0m 123s/step - accuracy: 0.9352 - loss: 0.2103 - val_accuracy: 0.9372 - val_loss: 0.1985\n",
      "Epoch 4/5\n",
      "\u001b[1m3278/3278\u001b[0m \u001b[32m━━━━━━━━━━━━━━━━━━━━\u001b[0m\u001b[37m\u001b[0m \u001b[1m4759s\u001b[0m 1s/step - accuracy: 0.9363 - loss: 0.2032 - val_accuracy: 0.9385 - val_loss: 0.1924\n",
      "Epoch 5/5\n",
      "\u001b[1m3278/3278\u001b[0m \u001b[32m━━━━━━━━━━━━━━━━━━━━\u001b[0m\u001b[37m\u001b[0m \u001b[1m4829s\u001b[0m 1s/step - accuracy: 0.9398 - loss: 0.1884 - val_accuracy: 0.9382 - val_loss: 0.1915\n"
     ]
    },
    {
     "data": {
      "text/plain": [
       "<keras.src.callbacks.history.History at 0x1a424ca9940>"
      ]
     },
     "execution_count": 20,
     "metadata": {},
     "output_type": "execute_result"
    }
   ],
   "source": [
    "model.fit(train_x, train_y, epochs = 5, batch_size = 1024, validation_split = .02)"
   ]
  },
  {
   "cell_type": "code",
   "execution_count": 21,
   "id": "a67e83f3-1ab0-4b05-9b53-6c85f9961b4e",
   "metadata": {},
   "outputs": [
    {
     "name": "stdout",
     "output_type": "stream",
     "text": [
      "\u001b[1m26754/26754\u001b[0m \u001b[32m━━━━━━━━━━━━━━━━━━━━\u001b[0m\u001b[37m\u001b[0m \u001b[1m1119s\u001b[0m 42ms/step\n"
     ]
    },
    {
     "data": {
      "text/plain": [
       "array([ 1,  7, 12, ...,  8,  1, 18], dtype=int64)"
      ]
     },
     "execution_count": 21,
     "metadata": {},
     "output_type": "execute_result"
    }
   ],
   "source": [
    "pred = model.predict(test_x)\n",
    "\n",
    "pred_classes = pred.argmax(axis=1)    \n",
    "pred_classes"
   ]
  },
  {
   "cell_type": "code",
   "execution_count": 22,
   "id": "2d8d40d4-6b0d-40ce-b9e4-8d8b24dce4dc",
   "metadata": {},
   "outputs": [
    {
     "name": "stdout",
     "output_type": "stream",
     "text": [
      "[[ 16818    219      1     34     40      1      0     11     22      0\n",
      "      14     10     52      0      0      2      0      4      1      1\n",
      "       0]\n",
      " [   122  36335      0      8    378      0      1    261     57      0\n",
      "     338      0    100      0      0     11      0      1      1      8\n",
      "       0]\n",
      " [     6      4   6002     11     16      1      0     24     38      0\n",
      "       0      0     32      0     69     36      0      0     24     86\n",
      "       0]\n",
      " [    40     15      3  17623   1777      0    423    128     51      0\n",
      "       4      1     24      3      1      4      0      3      1      0\n",
      "       0]\n",
      " [    20    310      2    126  37722      0      2   2597    128      0\n",
      "     129      0     46      0      0     34      0     32      4     18\n",
      "       0]\n",
      " [     0      0      0      2      3  27694      1    298      4      0\n",
      "       0      0      0      0      0      0      0      0      1      0\n",
      "       0]\n",
      " [     0      1      0     14      7      1  10057  34167     10      0\n",
      "       0      0     10      0      0      0      0      0      4      4\n",
      "       0]\n",
      " [     2     35      8     17    626    109    178 430976    456      0\n",
      "     139      0    316      4      0     53      0      1    119    104\n",
      "       0]\n",
      " [    11     27     12     23    166      1      3    524 101681      0\n",
      "      20      2    200      0      1     64      0      1     96     68\n",
      "       0]\n",
      " [     0      0      0      0      1      0      0     14      0      9\n",
      "       9      0      2      4      0      0      0      0      0      0\n",
      "       0]\n",
      " [    13    299      1      2    144      0      0    123     20      0\n",
      "   11281    165     35      2      0     11      0     11      4      4\n",
      "       0]\n",
      " [    12      4      0      1      1      0      0      1      1      0\n",
      "     320    742      0      0      0      0      0      1      0      0\n",
      "       0]\n",
      " [    16     49      9    547     23      0     10   1144    128      0\n",
      "       6      0  75511      0      0     16      0      0      8     11\n",
      "       0]\n",
      " [     0      1      1     41      1      1      0     17      2      0\n",
      "      72     10      0     66      0      0      0      0      3      0\n",
      "       0]\n",
      " [     0      0      8      0      0      0      0      0     10      0\n",
      "       0      0      0      0   1124     17      0      1      1      0\n",
      "       0]\n",
      " [     2     23      7      2     59      0      0    558     77      0\n",
      "       8      0     50      0      5   5270      0      0     11     45\n",
      "       0]\n",
      " [     0      0      1      0      1      0      6     27      1      0\n",
      "       1      0      0      0      0    251      0      0      0      0\n",
      "       0]\n",
      " [     9      3      0      8    180      0      0      0      0      0\n",
      "      55      3      0      0      0      0      0    698      0      0\n",
      "       0]\n",
      " [     1      2     75      0      8      0      4    827     60      0\n",
      "       0      0     22      0      0      6      0      0  15026      3\n",
      "       0]\n",
      " [     3     19     63      0     33      0      6   1463     95      0\n",
      "       2      0     52      0      0     52      0      0      2   8035\n",
      "       0]\n",
      " [     0      0      0      0      0      0      0      0      0      0\n",
      "       2      2      0      0      0      0      0      0      0      0\n",
      "       0]]\n",
      "-------------------------\n",
      "              precision    recall  f1-score   support\n",
      "\n",
      "           0       0.98      0.98      0.98     17230\n",
      "           1       0.97      0.97      0.97     37621\n",
      "           2       0.97      0.95      0.96      6349\n",
      "           3       0.95      0.88      0.91     20101\n",
      "           4       0.92      0.92      0.92     41170\n",
      "           5       1.00      0.99      0.99     28003\n",
      "           6       0.94      0.23      0.37     44275\n",
      "           7       0.91      0.99      0.95    433143\n",
      "           8       0.99      0.99      0.99    102900\n",
      "           9       1.00      0.23      0.38        39\n",
      "          10       0.91      0.93      0.92     12115\n",
      "          11       0.79      0.69      0.74      1083\n",
      "          12       0.99      0.97      0.98     77478\n",
      "          13       0.84      0.31      0.45       215\n",
      "          14       0.94      0.97      0.95      1161\n",
      "          15       0.90      0.86      0.88      6117\n",
      "          16       0.00      0.00      0.00       288\n",
      "          17       0.93      0.73      0.82       956\n",
      "          18       0.98      0.94      0.96     16034\n",
      "          19       0.96      0.82      0.88      9825\n",
      "          20       0.00      0.00      0.00         4\n",
      "\n",
      "    accuracy                           0.94    856107\n",
      "   macro avg       0.85      0.73      0.76    856107\n",
      "weighted avg       0.94      0.94      0.93    856107\n",
      "\n",
      "accuracy in decimals 93.75814004557841\n"
     ]
    }
   ],
   "source": [
    "from sklearn.metrics import confusion_matrix, classification_report\n",
    "tab=confusion_matrix(test_y, pred_classes)\n",
    "print(tab)\n",
    "print('-------------------------')\n",
    "print(classification_report(test_y, pred_classes))\n",
    "print('accuracy in decimals',tab.diagonal().sum() / tab.sum()*100)"
   ]
  },
  {
   "cell_type": "code",
   "execution_count": null,
   "id": "6d1c993e-52d9-49ea-9ef6-2cc3aedf2a0c",
   "metadata": {},
   "outputs": [],
   "source": []
  }
 ],
 "metadata": {
  "kernelspec": {
   "display_name": "Python [conda env:base] *",
   "language": "python",
   "name": "conda-base-py"
  },
  "language_info": {
   "codemirror_mode": {
    "name": "ipython",
    "version": 3
   },
   "file_extension": ".py",
   "mimetype": "text/x-python",
   "name": "python",
   "nbconvert_exporter": "python",
   "pygments_lexer": "ipython3",
   "version": "3.12.7"
  }
 },
 "nbformat": 4,
 "nbformat_minor": 5
}
